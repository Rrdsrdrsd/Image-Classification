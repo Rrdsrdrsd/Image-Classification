{
 "cells": [
  {
   "cell_type": "code",
   "execution_count": 1,
   "id": "d347c1c5-b0ef-4328-9ad4-14a48e194b74",
   "metadata": {},
   "outputs": [],
   "source": [
    "import tensorflow as tf\n",
    "from tensorflow.keras import datasets, layers, models\n",
    "import matplotlib.pyplot as plt\n",
    "import numpy as np"
   ]
  },
  {
   "cell_type": "code",
   "execution_count": 2,
   "id": "a09f5048-7b85-4157-91af-98d3988bc710",
   "metadata": {},
   "outputs": [
    {
     "data": {
      "text/plain": [
       "(50000, 32, 32, 3)"
      ]
     },
     "execution_count": 2,
     "metadata": {},
     "output_type": "execute_result"
    }
   ],
   "source": [
    "(X_train, y_train), (X_test,y_test) = datasets.cifar10.load_data()\n",
    "X_train.shape"
   ]
  },
  {
   "cell_type": "code",
   "execution_count": 3,
   "id": "aae0c143-028e-4740-b2eb-bfac67aac279",
   "metadata": {},
   "outputs": [
    {
     "data": {
      "text/plain": [
       "(10000, 32, 32, 3)"
      ]
     },
     "execution_count": 3,
     "metadata": {},
     "output_type": "execute_result"
    }
   ],
   "source": [
    "X_test.shape"
   ]
  },
  {
   "cell_type": "code",
   "execution_count": 4,
   "id": "110b628e-5693-41eb-8ed6-180617aceeed",
   "metadata": {},
   "outputs": [
    {
     "data": {
      "text/plain": [
       "(50000, 1)"
      ]
     },
     "execution_count": 4,
     "metadata": {},
     "output_type": "execute_result"
    }
   ],
   "source": [
    "y_train.shape"
   ]
  },
  {
   "cell_type": "code",
   "execution_count": 5,
   "id": "acc31fc9-6b6e-4826-86d1-9f1708f6f8cd",
   "metadata": {},
   "outputs": [
    {
     "data": {
      "text/plain": [
       "array([[6],\n",
       "       [9],\n",
       "       [9],\n",
       "       [4],\n",
       "       [1]], dtype=uint8)"
      ]
     },
     "execution_count": 5,
     "metadata": {},
     "output_type": "execute_result"
    }
   ],
   "source": [
    "y_train[:5]"
   ]
  },
  {
   "cell_type": "code",
   "execution_count": 6,
   "id": "db7c0c7b-e3b5-485b-8b73-694ee8e9af85",
   "metadata": {},
   "outputs": [
    {
     "data": {
      "text/plain": [
       "array([6, 9, 9, 4, 1], dtype=uint8)"
      ]
     },
     "execution_count": 6,
     "metadata": {},
     "output_type": "execute_result"
    }
   ],
   "source": [
    "y_train = y_train.reshape(-1,)\n",
    "y_train[:5]"
   ]
  },
  {
   "cell_type": "code",
   "execution_count": 7,
   "id": "fe542c94-102f-4021-b8a8-f70efefef378",
   "metadata": {},
   "outputs": [],
   "source": [
    "y_test = y_test.reshape(-1,)"
   ]
  },
  {
   "cell_type": "code",
   "execution_count": 8,
   "id": "4c2656fd-4b3f-4ad3-abd4-53d7b569d661",
   "metadata": {},
   "outputs": [],
   "source": [
    "classes = [\"airplane\",\"automobile\",\"bird\",\"cat\",\"deer\",\"dog\",\"frog\",\"horse\",\"ship\",\"truck\"]"
   ]
  },
  {
   "cell_type": "code",
   "execution_count": 9,
   "id": "8866d52f-2b2f-438b-b2ec-6b4332ae5631",
   "metadata": {},
   "outputs": [],
   "source": [
    "def plot_sample(X, y, index):\n",
    "    plt.figure(figsize = (15,2))\n",
    "    plt.imshow(X[index])\n",
    "    plt.xlabel(classes[y[index]])\n",
    "    "
   ]
  },
  {
   "cell_type": "code",
   "execution_count": 10,
   "id": "690a8545-075e-49cf-8d29-69a430a77518",
   "metadata": {},
   "outputs": [
    {
     "data": {
      "image/png": "[encoded data removed]",
      "text/plain": [
       "<Figure size 1080x144 with 1 Axes>"
      ]
     },
     "metadata": {
      "needs_background": "light"
     },
     "output_type": "display_data"
    }
   ],
   "source": [
    "plot_sample(X_train, y_train, 0)"
   ]
  },
  {
   "cell_type": "code",
   "execution_count": 11,
   "id": "a5c305d5-34db-4347-8010-bd6beb125467",
   "metadata": {},
   "outputs": [
    {
     "data": {
      "image/png": "[encoded data removed]",
      "text/plain": [
       "<Figure size 1080x144 with 1 Axes>"
      ]
     },
     "metadata": {
      "needs_background": "light"
     },
     "output_type": "display_data"
    }
   ],
   "source": [
    "plot_sample(X_train, y_train, 1)"
   ]
  },
  {
   "cell_type": "code",
   "execution_count": 12,
   "id": "677ad3a6-2977-4b4c-a2f0-6e9ce2c13ced",
   "metadata": {},
   "outputs": [],
   "source": [
    "X_train = X_train / 255.0\n",
    "X_test = X_test / 255.0"
   ]
  },
  {
   "cell_type": "code",
   "execution_count": 13,
   "id": "11a517c0-eafd-4eae-9903-ff1d392dd118",
   "metadata": {},
   "outputs": [],
   "source": [
    "ann = models.Sequential([\n",
    "        layers.Flatten(input_shape=(32,32,3)),\n",
    "        layers.Dense(3000, activation='relu'),\n",
    "        layers.Dense(1000, activation='relu'),\n",
    "        layers.Dense(10, activation='softmax')    \n",
    "    ])\n",
    "\n",
    "ann.compile(optimizer='SGD',\n",
    "              loss='sparse_categorical_crossentropy',\n",
    "              metrics=['accuracy'])"
   ]
  },
  {
   "cell_type": "code",
   "execution_count": 14,
   "id": "d95f4705-62f3-4b24-b90e-41ea1c8c7e81",
   "metadata": {},
   "outputs": [
    {
     "name": "stdout",
     "output_type": "stream",
     "text": [
      "Epoch 1/5\n",
      "1563/1563 [==============================] - 61s 39ms/step - loss: 1.8117 - accuracy: 0.3554\n",
      "Epoch 2/5\n",
      "1563/1563 [==============================] - 61s 39ms/step - loss: 1.6233 - accuracy: 0.4272\n",
      "Epoch 3/5\n",
      "1563/1563 [==============================] - 67s 43ms/step - loss: 1.5410 - accuracy: 0.4575\n",
      "Epoch 4/5\n",
      "1563/1563 [==============================] - 69s 44ms/step - loss: 1.4818 - accuracy: 0.4775\n",
      "Epoch 5/5\n",
      "1563/1563 [==============================] - 71s 45ms/step - loss: 1.4336 - accuracy: 0.4970\n"
     ]
    },
    {
     "data": {
      "text/plain": [
       "<keras.callbacks.History at 0x1e620feabf0>"
      ]
     },
     "execution_count": 14,
     "metadata": {},
     "output_type": "execute_result"
    }
   ],
   "source": [
    "ann.fit(X_train, y_train, epochs=5)"
   ]
  },
  {
   "cell_type": "code",
   "execution_count": 15,
   "id": "fa373832-a24c-484e-a1d2-66c970cd34e7",
   "metadata": {},
   "outputs": [
    {
     "name": "stdout",
     "output_type": "stream",
     "text": [
      "313/313 [==============================] - 3s 8ms/step\n"
     ]
    }
   ],
   "source": [
    "from sklearn.metrics import confusion_matrix , classification_report\n",
    "import numpy as np\n",
    "y_pred = ann.predict(X_test)\n",
    "y_pred_classes = [np.argmax(element) for element in y_pred]"
   ]
  },
  {
   "cell_type": "code",
   "execution_count": 16,
   "id": "8c5e2b1c-26ca-4fe4-88d0-d10b36b640c6",
   "metadata": {},
   "outputs": [
    {
     "name": "stdout",
     "output_type": "stream",
     "text": [
      "Classification Report: \n",
      "               precision    recall  f1-score   support\n",
      "\n",
      "           0       0.51      0.63      0.57      1000\n",
      "           1       0.73      0.37      0.49      1000\n",
      "           2       0.46      0.11      0.18      1000\n",
      "           3       0.44      0.13      0.20      1000\n",
      "           4       0.31      0.64      0.42      1000\n",
      "           5       0.36      0.48      0.41      1000\n",
      "           6       0.59      0.38      0.47      1000\n",
      "           7       0.49      0.60      0.54      1000\n",
      "           8       0.72      0.51      0.60      1000\n",
      "           9       0.43      0.73      0.54      1000\n",
      "\n",
      "    accuracy                           0.46     10000\n",
      "   macro avg       0.50      0.46      0.44     10000\n",
      "weighted avg       0.50      0.46      0.44     10000\n",
      "\n"
     ]
    }
   ],
   "source": [
    "print(\"Classification Report: \\n\", classification_report(y_test, y_pred_classes))"
   ]
  },
  {
   "cell_type": "code",
   "execution_count": 17,
   "id": "d99671be-7868-40c4-9c59-905ad7fee5e8",
   "metadata": {},
   "outputs": [],
   "source": [
    "cnn = models.Sequential([\n",
    "    layers.Conv2D(filters=32, kernel_size=(3, 3), activation='relu', input_shape=(32, 32, 3)),\n",
    "    layers.MaxPooling2D((2, 2)),\n",
    "    \n",
    "    layers.Conv2D(filters=64, kernel_size=(3, 3), activation='relu'),\n",
    "    layers.MaxPooling2D((2, 2)),\n",
    "    \n",
    "    layers.Flatten(),\n",
    "    layers.Dense(64, activation='relu'),\n",
    "    layers.Dense(10, activation='softmax')\n",
    "])"
   ]
  },
  {
   "cell_type": "code",
   "execution_count": 18,
   "id": "bbce381a-e5fc-467c-9e2f-c65c819f4599",
   "metadata": {},
   "outputs": [],
   "source": [
    "cnn.compile(optimizer='adam',\n",
    "              loss='sparse_categorical_crossentropy',\n",
    "              metrics=['accuracy'])"
   ]
  },
  {
   "cell_type": "code",
   "execution_count": 19,
   "id": "fed54e0c-887c-41c8-a0b1-8c6976086388",
   "metadata": {},
   "outputs": [
    {
     "name": "stdout",
     "output_type": "stream",
     "text": [
      "Epoch 1/10\n",
      "1563/1563 [==============================] - 26s 16ms/step - loss: 1.4729 - accuracy: 0.4703\n",
      "Epoch 2/10\n",
      "1563/1563 [==============================] - 25s 16ms/step - loss: 1.1183 - accuracy: 0.6083\n",
      "Epoch 3/10\n",
      "1563/1563 [==============================] - 23s 15ms/step - loss: 0.9802 - accuracy: 0.6583\n",
      "Epoch 4/10\n",
      "1563/1563 [==============================] - 25s 16ms/step - loss: 0.8992 - accuracy: 0.6892\n",
      "Epoch 5/10\n",
      "1563/1563 [==============================] - 25s 16ms/step - loss: 0.8353 - accuracy: 0.7115\n",
      "Epoch 6/10\n",
      "1563/1563 [==============================] - 26s 16ms/step - loss: 0.7781 - accuracy: 0.7290\n",
      "Epoch 7/10\n",
      "1563/1563 [==============================] - 26s 17ms/step - loss: 0.7291 - accuracy: 0.7458\n",
      "Epoch 8/10\n",
      "1563/1563 [==============================] - 28s 18ms/step - loss: 0.6796 - accuracy: 0.7623\n",
      "Epoch 9/10\n",
      "1563/1563 [==============================] - 28s 18ms/step - loss: 0.6419 - accuracy: 0.7764\n",
      "Epoch 10/10\n",
      "1563/1563 [==============================] - 31s 20ms/step - loss: 0.6001 - accuracy: 0.7911\n"
     ]
    },
    {
     "data": {
      "text/plain": [
       "<keras.callbacks.History at 0x1e629126d70>"
      ]
     },
     "execution_count": 19,
     "metadata": {},
     "output_type": "execute_result"
    }
   ],
   "source": [
    "cnn.fit(X_train, y_train, epochs=10)"
   ]
  },
  {
   "cell_type": "code",
   "execution_count": 20,
   "id": "f1c933e6-873f-4125-a928-9e9210873138",
   "metadata": {},
   "outputs": [
    {
     "name": "stdout",
     "output_type": "stream",
     "text": [
      "313/313 [==============================] - 2s 4ms/step - loss: 0.9753 - accuracy: 0.6848\n"
     ]
    },
    {
     "data": {
      "text/plain": [
       "[0.9753468632698059, 0.6848000288009644]"
      ]
     },
     "execution_count": 20,
     "metadata": {},
     "output_type": "execute_result"
    }
   ],
   "source": [
    "cnn.evaluate(X_test,y_test)"
   ]
  },
  {
   "cell_type": "code",
   "execution_count": 21,
   "id": "81073985-17ab-47e2-84c0-d78f16cc7cac",
   "metadata": {},
   "outputs": [
    {
     "name": "stdout",
     "output_type": "stream",
     "text": [
      "313/313 [==============================] - 1s 4ms/step\n"
     ]
    },
    {
     "data": {
      "text/plain": [
       "array([[2.57260725e-03, 1.20886264e-03, 1.28721795e-03, 8.42931628e-01,\n",
       "        3.99101991e-04, 1.17583655e-01, 4.72316286e-03, 1.86787856e-05,\n",
       "        2.86897589e-02, 5.85338217e-04],\n",
       "       [3.28349066e-03, 3.06088403e-02, 1.53434976e-05, 5.06595192e-08,\n",
       "        1.22256188e-06, 6.13997964e-09, 2.96563087e-07, 6.16853901e-09,\n",
       "        9.65652525e-01, 4.38191375e-04],\n",
       "       [4.86706123e-02, 1.25974044e-01, 1.56903155e-02, 6.01534615e-04,\n",
       "        8.23123410e-05, 3.60565929e-04, 6.61985716e-04, 1.88825303e-04,\n",
       "        8.04951966e-01, 2.81792902e-03],\n",
       "       [6.98961437e-01, 7.80484900e-02, 4.38384339e-02, 1.34643877e-03,\n",
       "        7.68780941e-03, 9.02364991e-05, 1.43177051e-03, 1.29292821e-04,\n",
       "        1.68377310e-01, 8.88396244e-05],\n",
       "       [1.18301998e-07, 1.49794471e-06, 1.26228528e-02, 8.82024691e-03,\n",
       "        3.94167490e-02, 1.17788103e-03, 9.37959611e-01, 3.20067983e-07,\n",
       "        7.04649608e-07, 6.40538929e-08]], dtype=float32)"
      ]
     },
     "execution_count": 21,
     "metadata": {},
     "output_type": "execute_result"
    }
   ],
   "source": [
    "y_pred = cnn.predict(X_test)\n",
    "y_pred[:5]"
   ]
  },
  {
   "cell_type": "code",
   "execution_count": 22,
   "id": "7ea6e66b-b430-4b9f-a674-d8516a2e0af4",
   "metadata": {},
   "outputs": [
    {
     "data": {
      "text/plain": [
       "[3, 8, 8, 0, 6]"
      ]
     },
     "execution_count": 22,
     "metadata": {},
     "output_type": "execute_result"
    }
   ],
   "source": [
    "y_classes = [np.argmax(element) for element in y_pred]\n",
    "y_classes[:5]"
   ]
  },
  {
   "cell_type": "code",
   "execution_count": 23,
   "id": "3516fdf0-1205-4bbf-b8d8-8e9006d77347",
   "metadata": {},
   "outputs": [
    {
     "data": {
      "text/plain": [
       "array([3, 8, 8, 0, 6], dtype=uint8)"
      ]
     },
     "execution_count": 23,
     "metadata": {},
     "output_type": "execute_result"
    }
   ],
   "source": [
    "y_test[:5]"
   ]
  },
  {
   "cell_type": "code",
   "execution_count": 27,
   "id": "613fbaea-c60d-4f15-8b27-53d003429b8c",
   "metadata": {},
   "outputs": [
    {
     "data": {
      "image/png": "[encoded data removed]",
      "text/plain": [
       "<Figure size 1080x144 with 1 Axes>"
      ]
     },
     "metadata": {
      "needs_background": "light"
     },
     "output_type": "display_data"
    }
   ],
   "source": [
    "plot_sample(X_test, y_test,6)"
   ]
  },
  {
   "cell_type": "code",
   "execution_count": 28,
   "id": "81997ee7-c007-4fae-8587-059d2a03467a",
   "metadata": {},
   "outputs": [
    {
     "data": {
      "text/plain": [
       "'automobile'"
      ]
     },
     "execution_count": 28,
     "metadata": {},
     "output_type": "execute_result"
    }
   ],
   "source": [
    "classes[y_classes[6]]"
   ]
  },
  {
   "cell_type": "code",
   "execution_count": null,
   "id": "3c86fee8-e0ff-4960-94cc-33f0467be464",
   "metadata": {},
   "outputs": [],
   "source": []
  }
 ],
 "metadata": {
  "kernelspec": {
   "display_name": "Python 3 (ipykernel)",
   "language": "python",
   "name": "python3"
  },
  "language_info": {
   "codemirror_mode": {
    "name": "ipython",
    "version": 3
   },
   "file_extension": ".py",
   "mimetype": "text/x-python",
   "name": "python",
   "nbconvert_exporter": "python",
   "pygments_lexer": "ipython3",
   "version": "3.10.1"
  }
 },
 "nbformat": 4,
 "nbformat_minor": 5
}
